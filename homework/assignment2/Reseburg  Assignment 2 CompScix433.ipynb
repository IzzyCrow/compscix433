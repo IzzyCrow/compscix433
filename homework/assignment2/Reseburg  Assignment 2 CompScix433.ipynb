{
 "cells": [
  {
   "cell_type": "code",
   "execution_count": 1,
   "metadata": {},
   "outputs": [],
   "source": [
    "import pandas as pd\n",
    "import numpy as np"
   ]
  },
  {
   "cell_type": "code",
   "execution_count": 2,
   "metadata": {},
   "outputs": [],
   "source": [
    "# Create an Array to store given column names\n",
    "colNames = [\"age\", \"emp_type\", \"number\", \"education\", \"ed_num\", \"marital_status\", \"occupation\", \"relationship\", \"race\", \"gender\", \"capital_gain\",\"capital_loss\",\"hours_per_week\", \"native_country\", \"income\"]\n",
    "\n",
    "# Create teh Dataframe\n",
    "populationDF = pd.read_csv('population.csv', names=colNames)"
   ]
  },
  {
   "cell_type": "markdown",
   "metadata": {},
   "source": [
    "Begin Data clean up"
   ]
  },
  {
   "cell_type": "code",
   "execution_count": 3,
   "metadata": {},
   "outputs": [
    {
     "name": "stdout",
     "output_type": "stream",
     "text": [
      "Index(['age', 'emp_type', 'number', 'education', 'ed_num', 'marital_status',\n",
      "       'occupation', 'relationship', 'race', 'gender', 'capital_gain',\n",
      "       'capital_loss', 'hours_per_week', 'native_country', 'income'],\n",
      "      dtype='object')\n",
      "(32561, 15)\n",
      "<bound method NDFrame.head of        age           emp_type  number    education  ed_num  \\\n",
      "0       39          State-gov   77516    Bachelors      13   \n",
      "1       50   Self-emp-not-inc   83311    Bachelors      13   \n",
      "2       38            Private  215646      HS-grad       9   \n",
      "3       53            Private  234721         11th       7   \n",
      "4       28            Private  338409    Bachelors      13   \n",
      "...    ...                ...     ...          ...     ...   \n",
      "32556   27            Private  257302   Assoc-acdm      12   \n",
      "32557   40            Private  154374      HS-grad       9   \n",
      "32558   58            Private  151910      HS-grad       9   \n",
      "32559   22            Private  201490      HS-grad       9   \n",
      "32560   52       Self-emp-inc  287927      HS-grad       9   \n",
      "\n",
      "            marital_status          occupation    relationship    race  \\\n",
      "0            Never-married        Adm-clerical   Not-in-family   White   \n",
      "1       Married-civ-spouse     Exec-managerial         Husband   White   \n",
      "2                 Divorced   Handlers-cleaners   Not-in-family   White   \n",
      "3       Married-civ-spouse   Handlers-cleaners         Husband   Black   \n",
      "4       Married-civ-spouse      Prof-specialty            Wife   Black   \n",
      "...                    ...                 ...             ...     ...   \n",
      "32556   Married-civ-spouse        Tech-support            Wife   White   \n",
      "32557   Married-civ-spouse   Machine-op-inspct         Husband   White   \n",
      "32558              Widowed        Adm-clerical       Unmarried   White   \n",
      "32559        Never-married        Adm-clerical       Own-child   White   \n",
      "32560   Married-civ-spouse     Exec-managerial            Wife   White   \n",
      "\n",
      "        gender  capital_gain  capital_loss  hours_per_week  native_country  \\\n",
      "0         Male          2174             0              40   United-States   \n",
      "1         Male             0             0              13   United-States   \n",
      "2         Male             0             0              40   United-States   \n",
      "3         Male             0             0              40   United-States   \n",
      "4       Female             0             0              40            Cuba   \n",
      "...        ...           ...           ...             ...             ...   \n",
      "32556   Female             0             0              38   United-States   \n",
      "32557     Male             0             0              40   United-States   \n",
      "32558   Female             0             0              40   United-States   \n",
      "32559     Male             0             0              20   United-States   \n",
      "32560   Female         15024             0              40   United-States   \n",
      "\n",
      "       income  \n",
      "0       <=50K  \n",
      "1       <=50K  \n",
      "2       <=50K  \n",
      "3       <=50K  \n",
      "4       <=50K  \n",
      "...       ...  \n",
      "32556   <=50K  \n",
      "32557    >50K  \n",
      "32558   <=50K  \n",
      "32559   <=50K  \n",
      "32560    >50K  \n",
      "\n",
      "[32561 rows x 15 columns]>\n",
      "age                int64\n",
      "emp_type          object\n",
      "number             int64\n",
      "education         object\n",
      "ed_num             int64\n",
      "marital_status    object\n",
      "occupation        object\n",
      "relationship      object\n",
      "race              object\n",
      "gender            object\n",
      "capital_gain       int64\n",
      "capital_loss       int64\n",
      "hours_per_week     int64\n",
      "native_country    object\n",
      "income            object\n",
      "dtype: object\n"
     ]
    }
   ],
   "source": [
    "# Print the columns\n",
    "print(populationDF.columns)\n",
    "\n",
    "# Print the number of rows and columns\n",
    "print (populationDF.shape)\n",
    "\n",
    "# explore the data and change any string categorical type fields to numbers\n",
    "print (populationDF.head)\n",
    "print (populationDF.dtypes)"
   ]
  },
  {
   "cell_type": "code",
   "execution_count": 4,
   "metadata": {},
   "outputs": [
    {
     "data": {
      "text/plain": [
       "age               0\n",
       "emp_type          0\n",
       "number            0\n",
       "education         0\n",
       "ed_num            0\n",
       "marital_status    0\n",
       "occupation        0\n",
       "relationship      0\n",
       "race              0\n",
       "gender            0\n",
       "capital_gain      0\n",
       "capital_loss      0\n",
       "hours_per_week    0\n",
       "native_country    0\n",
       "income            0\n",
       "dtype: int64"
      ]
     },
     "execution_count": 4,
     "metadata": {},
     "output_type": "execute_result"
    }
   ],
   "source": [
    "# Explicitly Check for NaN data in original data before manipualtion\n",
    "populationDF.isnull().sum()"
   ]
  },
  {
   "cell_type": "code",
   "execution_count": 5,
   "metadata": {},
   "outputs": [
    {
     "name": "stdout",
     "output_type": "stream",
     "text": [
      "emp type: \n",
      "[' State-gov' ' Self-emp-not-inc' ' Private' ' Federal-gov' ' Local-gov'\n",
      " ' ?' ' Self-emp-inc' ' Without-pay' ' Never-worked']\n",
      "marital_status: \n",
      "[' Never-married' ' Married-civ-spouse' ' Divorced'\n",
      " ' Married-spouse-absent' ' Separated' ' Married-AF-spouse' ' Widowed']\n",
      "occupation: \n",
      "[' Adm-clerical' ' Exec-managerial' ' Handlers-cleaners' ' Prof-specialty'\n",
      " ' Other-service' ' Sales' ' Craft-repair' ' Transport-moving'\n",
      " ' Farming-fishing' ' Machine-op-inspct' ' Tech-support' ' ?'\n",
      " ' Protective-serv' ' Armed-Forces' ' Priv-house-serv']\n",
      "relationship: \n",
      "[' Not-in-family' ' Husband' ' Wife' ' Own-child' ' Unmarried'\n",
      " ' Other-relative']\n",
      "race: \n",
      "[' White' ' Black' ' Asian-Pac-Islander' ' Amer-Indian-Eskimo' ' Other']\n",
      "gender: \n",
      "[' Male' ' Female']\n",
      "native_country: \n",
      "[' United-States' ' Cuba' ' Jamaica' ' India' ' ?' ' Mexico' ' South'\n",
      " ' Puerto-Rico' ' Honduras' ' England' ' Canada' ' Germany' ' Iran'\n",
      " ' Philippines' ' Italy' ' Poland' ' Columbia' ' Cambodia' ' Thailand'\n",
      " ' Ecuador' ' Laos' ' Taiwan' ' Haiti' ' Portugal' ' Dominican-Republic'\n",
      " ' El-Salvador' ' France' ' Guatemala' ' China' ' Japan' ' Yugoslavia'\n",
      " ' Peru' ' Outlying-US(Guam-USVI-etc)' ' Scotland' ' Trinadad&Tobago'\n",
      " ' Greece' ' Nicaragua' ' Vietnam' ' Hong' ' Ireland' ' Hungary'\n",
      " ' Holand-Netherlands']\n",
      "income: \n",
      "[' <=50K' ' >50K']\n"
     ]
    }
   ],
   "source": [
    "# based of what i am seeing, i am saying that\n",
    "# \"emp_type\", \"marital_status\", \"occupation\", relationship, race, gender, income, and native country can be recategorized\n",
    "# i am skipping education because it has already been classified as a number in ed_num    \n",
    "\n",
    "# List the unique values \n",
    "print ('emp type: ')  \n",
    "print (populationDF[\"emp_type\"].unique())\n",
    "print ('marital_status: ')\n",
    "print (populationDF[\"marital_status\"].unique())\n",
    "print ('occupation: ') \n",
    "print (populationDF[\"occupation\"].unique())\n",
    "print ('relationship: ')\n",
    "print (populationDF[\"relationship\"].unique())\n",
    "print ('race: ')\n",
    "print (populationDF[\"race\"].unique())\n",
    "print ('gender: ') \n",
    "print (populationDF[\"gender\"].unique())\n",
    "print ('native_country: ')\n",
    "print (populationDF[\"native_country\"].unique())\n",
    "print ('income: ')\n",
    "print (populationDF[\"income\"].unique())"
   ]
  },
  {
   "cell_type": "code",
   "execution_count": 6,
   "metadata": {},
   "outputs": [
    {
     "name": "stdout",
     "output_type": "stream",
     "text": [
      "<bound method NDFrame.head of        age  emp_type  number  ed_num  marital_status  occupation  \\\n",
      "0       39         1   77516      13               1           1   \n",
      "1       50         2   83311      13               2           2   \n",
      "2       38         3  215646       9               3           3   \n",
      "3       53         3  234721       7               2           3   \n",
      "4       28         3  338409      13               2           4   \n",
      "...    ...       ...     ...     ...             ...         ...   \n",
      "32556   27         3  257302      12               2          11   \n",
      "32557   40         3  154374       9               2          10   \n",
      "32558   58         3  151910       9               0           1   \n",
      "32559   22         3  201490       9               1           1   \n",
      "32560   52         7  287927       9               2           2   \n",
      "\n",
      "       relationship  race  gender  capital_gain  capital_loss  hours_per_week  \\\n",
      "0                 0     0       0          2174             0              40   \n",
      "1                 2     0       0             0             0              13   \n",
      "2                 0     0       0             0             0              40   \n",
      "3                 2     1       0             0             0              40   \n",
      "4                 1     1       1             0             0              40   \n",
      "...             ...   ...     ...           ...           ...             ...   \n",
      "32556             1     0       1             0             0              38   \n",
      "32557             2     0       0             0             0              40   \n",
      "32558             4     0       1             0             0              40   \n",
      "32559             3     0       0             0             0              20   \n",
      "32560             1     0       1         15024             0              40   \n",
      "\n",
      "       native_country  income  \n",
      "0                   4       0  \n",
      "1                   4       0  \n",
      "2                   4       0  \n",
      "3                   4       0  \n",
      "4                   1       0  \n",
      "...               ...     ...  \n",
      "32556               4       0  \n",
      "32557               4       1  \n",
      "32558               4       0  \n",
      "32559               4       0  \n",
      "32560               4       1  \n",
      "\n",
      "[32561 rows x 14 columns]>\n"
     ]
    }
   ],
   "source": [
    "#  Perform the actual re-classification.\n",
    "\n",
    "#Create dictionaries and re-assign\n",
    "empType = {' State-gov':1, ' Self-emp-not-inc':2, ' Private':3, ' Federal-gov':4, ' Local-gov':5, ' ?':6, ' Self-emp-inc': 7, ' Without-pay':8, ' Never-worked':0}\n",
    "populationDF.emp_type = [empType[item] for item in populationDF.emp_type]\n",
    "\n",
    "maritalStatus = {' Never-married':1, ' Married-civ-spouse':2, ' Divorced':3, ' Married-spouse-absent':4, ' Separated':5, ' Married-AF-spouse':6 , ' Widowed':0}\n",
    "populationDF.marital_status = [maritalStatus[item] for item in populationDF.marital_status]\n",
    "\n",
    "occupationType = {' Adm-clerical':1, ' Exec-managerial':2, ' Handlers-cleaners':3, ' Prof-specialty':4, ' Other-service':5, ' Sales':6, ' Craft-repair':7, ' Transport-moving':8, ' Farming-fishing':9, ' Machine-op-inspct':10, ' Tech-support':11, ' ?':0, ' Protective-serv':12, ' Armed-Forces':13, ' Priv-house-serv':14}\n",
    "populationDF.occupation = [occupationType[item] for item in populationDF.occupation]\n",
    "\n",
    "relationshipType = {' Not-in-family':0, ' Husband':2, ' Wife':1, ' Own-child':3, ' Unmarried':4, ' Other-relative':5}\n",
    "populationDF.relationship = [relationshipType[item] for item in populationDF.relationship]\n",
    "\n",
    "raceType = {' White':0, ' Black':1, ' Asian-Pac-Islander':2, ' Amer-Indian-Eskimo':3, ' Other':4}\n",
    "populationDF.race = [raceType[item] for item in populationDF.race]\n",
    "\n",
    "genderType = {' Male':0, ' Female':1}\n",
    "populationDF.gender = [genderType[item] for item in populationDF.gender]\n",
    "\n",
    "countryType = {' United-States':4, ' Cuba':1, ' Jamaica':2, ' India':3, ' ?':0, ' Mexico':5, ' South':6, ' Puerto-Rico':7, ' Honduras':8, ' England':9, ' Canada':10, ' Germany':11, ' Iran':12, ' Philippines':13, ' Italy':14, ' Poland':15, ' Columbia':16, ' Cambodia':17, ' Thailand':18, ' Ecuador':19, ' Laos':20, ' Taiwan':21, ' Haiti':22, ' Portugal':23, ' Dominican-Republic':24, ' El-Salvador':25, ' France':26, ' Guatemala':27, ' China':28, ' Japan':29, ' Yugoslavia':30, ' Peru':31, ' Outlying-US(Guam-USVI-etc)':32, ' Scotland':33, ' Trinadad&Tobago':34, ' Greece':35, ' Nicaragua':36, ' Vietnam':37, ' Hong':38, ' Ireland':39, ' Hungary':40, ' Holand-Netherlands':41}\n",
    "populationDF.native_country = [countryType[item] for item in populationDF.native_country]\n",
    "\n",
    "incomeType = {' <=50K':0, ' >50K':1}\n",
    "populationDF.income = [incomeType[item] for item in populationDF.income]\n",
    "\n",
    "# Drop the education column as we have the edu_num column already,\n",
    "populationDF = populationDF.drop('education', axis = 1)\n",
    "\n",
    "# verify values were hcanged sucessfully \n",
    "print (populationDF.head)"
   ]
  },
  {
   "cell_type": "markdown",
   "metadata": {},
   "source": [
    "Data cleanup complete.\n",
    "\n",
    "Starting actual analysis."
   ]
  },
  {
   "cell_type": "code",
   "execution_count": 7,
   "metadata": {},
   "outputs": [],
   "source": [
    "#Set up the depent and independent arrays\n",
    "x = populationDF.drop('income', axis = 1)\n",
    "y = populationDF['income']\n",
    "\n",
    "#Set up the training \n",
    "from sklearn.model_selection import train_test_split\n",
    "x_train, x_test, y_train, y_test = train_test_split(x, y, test_size = 0.20)\n"
   ]
  },
  {
   "cell_type": "code",
   "execution_count": null,
   "metadata": {},
   "outputs": [
    {
     "name": "stderr",
     "output_type": "stream",
     "text": [
      "/home/izzy/anaconda3/lib/python3.7/site-packages/sklearn/svm/base.py:193: FutureWarning: The default value of gamma will change from 'auto' to 'scale' in version 0.22 to account better for unscaled features. Set gamma explicitly to 'auto' or 'scale' to avoid this warning.\n",
      "  \"avoid this warning.\", FutureWarning)\n"
     ]
    }
   ],
   "source": [
    "# SVM Model\n",
    "from sklearn.svm import SVC\n",
    "svclassifier = SVC(kernel='poly', degree=3) \n",
    "svclassifier.fit(x_train, y_train)\n",
    "y_pred_svc = svclassifier.predict(x_test)"
   ]
  },
  {
   "cell_type": "code",
   "execution_count": null,
   "metadata": {},
   "outputs": [],
   "source": [
    "# Report results for all models\n",
    "from sklearn.metrics import classification_report, confusion_matrix\n",
    "\n",
    "print (confusion_matrix(y_test,y_pred_svc))\n",
    "print (classification_report(y_test,y_pred_svc))"
   ]
  },
  {
   "cell_type": "code",
   "execution_count": null,
   "metadata": {},
   "outputs": [],
   "source": []
  }
 ],
 "metadata": {
  "kernelspec": {
   "display_name": "Python 3",
   "language": "python",
   "name": "python3"
  },
  "language_info": {
   "codemirror_mode": {
    "name": "ipython",
    "version": 3
   },
   "file_extension": ".py",
   "mimetype": "text/x-python",
   "name": "python",
   "nbconvert_exporter": "python",
   "pygments_lexer": "ipython3",
   "version": "3.7.4"
  }
 },
 "nbformat": 4,
 "nbformat_minor": 2
}
