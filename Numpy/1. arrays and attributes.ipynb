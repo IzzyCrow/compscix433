{
 "cells": [
  {
   "cell_type": "markdown",
   "metadata": {},
   "source": [
    "## Numpy\n",
    "\n",
    "Travis Oliphant created Numpy and released it to public as Numeric in 1995 and as Numpy in 2006. \n",
    "It is written in Python and C. Now it is maintained by Python Community. \n",
    "\n",
    "Numpy is a powerful library that is used for numerical computing. Libraries such as Pandas and Tensorflow are build on Numpy. In Tensorflow, the output is an ndarray, which stands for n-dimensional array. "
   ]
  },
  {
   "cell_type": "markdown",
   "metadata": {},
   "source": [
    "## Arrays vs Matrices \n",
    "\n",
    "https://www.numpy.org/devdocs/user/numpy-for-matlab-users.html\n",
    "\n",
    "In Numpy, matrices are two dimensional whereas arrays can be of any dimension, i.e. n-dimensional."
   ]
  },
  {
   "cell_type": "code",
   "execution_count": 22,
   "metadata": {},
   "outputs": [],
   "source": [
    "import numpy as np   #convert image into a numpy array as oppossed to excel  # we are going to focus on arrays"
   ]
  },
  {
   "cell_type": "code",
   "execution_count": 23,
   "metadata": {},
   "outputs": [
    {
     "name": "stdout",
     "output_type": "stream",
     "text": [
      "<class 'numpy.ndarray'>\n"
     ]
    }
   ],
   "source": [
    "a = np.array([])\n",
    "print (type(a))"
   ]
  },
  {
   "cell_type": "markdown",
   "metadata": {},
   "source": [
    "## NDARRAY\n",
    "An ndaray is a n-dimensional array where all items are of the same type (unlike a Python data structure) and consequently use the same amount of space. There are 21 different types of objects (also called dtypes) that can be stored in ndarray, such as\n",
    "* bool_ \n",
    "* byte\n",
    "* short\n",
    "* int_\n",
    "* single\n",
    "* float_\n",
    "* longfloat\n",
    "* complex_\n",
    "* object_\n",
    "* str_\n",
    "\n",
    "For some of the dtypes, a _ to differentiate that dtype from the corresponding Python type. Such types are also called as 'enhanced scalars).  They have the same precision as the Python type.\n"
   ]
  },
  {
   "cell_type": "markdown",
   "metadata": {},
   "source": [
    "Creating Arrays - First let's learn about different ways of create arrays in numpy. "
   ]
  },
  {
   "cell_type": "code",
   "execution_count": 24,
   "metadata": {},
   "outputs": [],
   "source": [
    "import numpy as np"
   ]
  },
  {
   "cell_type": "code",
   "execution_count": 25,
   "metadata": {},
   "outputs": [
    {
     "name": "stdout",
     "output_type": "stream",
     "text": [
      "[2, 6, 10] <class 'list'> <class 'int'>\n",
      "[ 2  6 10] <class 'numpy.ndarray'> int64\n"
     ]
    }
   ],
   "source": [
    "# declaring a simple one dimensional numpy array # how to define a n array as alitst and pass to numpy\n",
    "\n",
    "a = [2, 6, 10] #going to treat it like a list\n",
    "print(a, type(a), type(a[2]))\n",
    "a = np.array(a)\n",
    "print(a, type(a), a.dtype)"
   ]
  },
  {
   "cell_type": "code",
   "execution_count": 26,
   "metadata": {},
   "outputs": [
    {
     "name": "stdout",
     "output_type": "stream",
     "text": [
      "[1 2 3 4]\n",
      "<class 'numpy.ndarray'>\n"
     ]
    }
   ],
   "source": [
    "# declaring another simple one dimensional numpy array\n",
    "\n",
    "a = np.array([1, 2, 3, 4])  # shorter version\n",
    "print(a)\n",
    "print(type(a))"
   ]
  },
  {
   "cell_type": "code",
   "execution_count": 27,
   "metadata": {},
   "outputs": [
    {
     "name": "stdout",
     "output_type": "stream",
     "text": [
      "[[1 2 3]\n",
      " [4 5 6]]\n",
      "(2, 3)\n",
      "2\n"
     ]
    }
   ],
   "source": [
    "# declaring a two dimensional numpy array\n",
    "\n",
    "b = np.array([[1, 2, 3], [4, 5, 6]])\n",
    "# note that we have to supply each row of the array as an item in a list\n",
    "print(b)\n",
    "print(b.shape)\n",
    "print(b.ndim)"
   ]
  },
  {
   "cell_type": "code",
   "execution_count": 28,
   "metadata": {},
   "outputs": [
    {
     "name": "stdout",
     "output_type": "stream",
     "text": [
      "[0 1 2 3 4 5 6]\n"
     ]
    }
   ],
   "source": [
    "# we can create a simple ndarray by using arange\n",
    "# numpy.arange(n) will create an ndarray elements starting from 0 to n-1\n",
    "\n",
    "a = np.arange(7) # will create elements starting from 0 to 7-1\n",
    "print(a)"
   ]
  },
  {
   "cell_type": "code",
   "execution_count": 29,
   "metadata": {},
   "outputs": [
    {
     "name": "stdout",
     "output_type": "stream",
     "text": [
      "[-7 -6 -5 -4 -3 -2 -1  0  1  2  3  4  5  6]\n"
     ]
    }
   ],
   "source": [
    "# we can also include negative integers\n",
    "\n",
    "a1 = np.arange(-7, 7)\n",
    "print(a1)"
   ]
  },
  {
   "cell_type": "code",
   "execution_count": 30,
   "metadata": {},
   "outputs": [
    {
     "name": "stdout",
     "output_type": "stream",
     "text": [
      "[-10  -8  -6  -4  -2   0   2   4   6   8]\n"
     ]
    }
   ],
   "source": [
    "# can have step size \n",
    "a2 = np.arange(start=-10, stop=10, step=2)\n",
    "print(a2)"
   ]
  },
  {
   "cell_type": "code",
   "execution_count": 31,
   "metadata": {},
   "outputs": [
    {
     "name": "stdout",
     "output_type": "stream",
     "text": [
      "The linear space of value is [ 1.          3.11111111  5.22222222  7.33333333  9.44444444 11.55555556\n",
      " 13.66666667 15.77777778 17.88888889 20.        ]\n"
     ]
    }
   ],
   "source": [
    "# Create 10 numbers between 1 and 20 including 20 - equally spaced, not random\n",
    "p = np.linspace(start = 1, stop = 20, num=10)\n",
    "print('The linear space of value is {0}'.format(p))"
   ]
  },
  {
   "cell_type": "code",
   "execution_count": 32,
   "metadata": {},
   "outputs": [
    {
     "name": "stdout",
     "output_type": "stream",
     "text": [
      "[-5.         -3.88888889 -2.77777778 -1.66666667 -0.55555556  0.55555556\n",
      "  1.66666667  2.77777778  3.88888889  5.        ]\n"
     ]
    }
   ],
   "source": [
    "\"\"\"\n",
    "In-class activity - create an array using linspace that starts from -5 and stops at 5 and num = 10\n",
    "\"\"\"\n",
    "p = np.linspace(start = -5, stop = 5, num = 10)\n",
    "print (p)"
   ]
  },
  {
   "cell_type": "code",
   "execution_count": 33,
   "metadata": {},
   "outputs": [
    {
     "name": "stdout",
     "output_type": "stream",
     "text": [
      "[[0. 0.]\n",
      " [0. 0.]\n",
      " [0. 0.]]\n"
     ]
    }
   ],
   "source": [
    "# using zeros() method  # used for weights and biases - more like place holders / intiializer \n",
    "a = np.zeros((3, 2))\n",
    "print(a)"
   ]
  },
  {
   "cell_type": "code",
   "execution_count": 34,
   "metadata": {},
   "outputs": [
    {
     "name": "stdout",
     "output_type": "stream",
     "text": [
      "[[1. 1.]\n",
      " [1. 1.]\n",
      " [1. 1.]]\n"
     ]
    }
   ],
   "source": [
    "# using ones()\n",
    "a = np.ones((3,2))\n",
    "print(a)"
   ]
  },
  {
   "cell_type": "code",
   "execution_count": 35,
   "metadata": {},
   "outputs": [
    {
     "name": "stdout",
     "output_type": "stream",
     "text": [
      "[[1. 0.]\n",
      " [0. 1.]]\n"
     ]
    }
   ],
   "source": [
    "# using identity  # dlook up definition of identity, this case it creates a squaer 2 x 2\n",
    "a = np.identity(2) \n",
    "print(a)"
   ]
  },
  {
   "cell_type": "code",
   "execution_count": 36,
   "metadata": {},
   "outputs": [
    {
     "name": "stdout",
     "output_type": "stream",
     "text": [
      "[[1. 0.]\n",
      " [0. 1.]]\n"
     ]
    }
   ],
   "source": [
    "# using empty() method \n",
    "# this will generate very small random numbers close to zero\n",
    "b = np.empty((2,2)) \n",
    "print(b) "
   ]
  },
  {
   "cell_type": "code",
   "execution_count": 37,
   "metadata": {},
   "outputs": [
    {
     "name": "stdout",
     "output_type": "stream",
     "text": [
      "[[ 1. 15.]\n",
      " [30.  1.]]\n"
     ]
    }
   ],
   "source": [
    "\"\"\"\n",
    "In class activity\n",
    "In the above variable b, change b[0][1] to 15 and b[1][0] to 30 and then print b. \n",
    "\"\"\"\n",
    "b [0] [1] = 15\n",
    "b [1] [0] = 30\n",
    "print (b)\n"
   ]
  },
  {
   "cell_type": "markdown",
   "metadata": {},
   "source": [
    "References:\n",
    "\n",
    "http://people.duke.edu/~ccc14/pcfb/numpympl/NumpyBasics.html\n",
    "\n",
    "https://docs.scipy.org/doc/numpy-dev/user/quickstart.html\n",
    "\n",
    "http://www.engr.ucsb.edu/~shell/che210d/numpy.pdf\n",
    "\n",
    "http://www.labri.fr/perso/nrougier/teaching/numpy/numpy.html\n",
    "\n",
    "http://www.labri.fr/perso/nrougier/teaching/numpy.100/\n",
    "\n",
    "NUMPY TO MATLAB - https://docs.scipy.org/doc/numpy-dev/user/numpy-for-matlab-users.html\n",
    "\n",
    "https://www.numpy.org/devdocs/user/numpy-for-matlab-users.html"
   ]
  },
  {
   "cell_type": "code",
   "execution_count": null,
   "metadata": {},
   "outputs": [],
   "source": []
  }
 ],
 "metadata": {
  "kernelspec": {
   "display_name": "Python 3",
   "language": "python",
   "name": "python3"
  },
  "language_info": {
   "codemirror_mode": {
    "name": "ipython",
    "version": 3
   },
   "file_extension": ".py",
   "mimetype": "text/x-python",
   "name": "python",
   "nbconvert_exporter": "python",
   "pygments_lexer": "ipython3",
   "version": "3.6.8"
  },
  "widgets": {
   "state": {},
   "version": "1.1.2"
  }
 },
 "nbformat": 4,
 "nbformat_minor": 2
}
