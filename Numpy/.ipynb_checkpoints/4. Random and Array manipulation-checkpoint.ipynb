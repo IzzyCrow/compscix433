{
 "cells": [
  {
   "cell_type": "markdown",
   "metadata": {},
   "source": [
    "### In this notebook we will look at\n",
    "\n",
    "random module\n",
    "\n",
    "array manipulations"
   ]
  },
  {
   "cell_type": "code",
   "execution_count": 1,
   "metadata": {},
   "outputs": [],
   "source": [
    "import numpy as np"
   ]
  },
  {
   "cell_type": "code",
   "execution_count": 10,
   "metadata": {},
   "outputs": [
    {
     "name": "stdout",
     "output_type": "stream",
     "text": [
      "[0.24226393 0.50179725 0.19492683]\n"
     ]
    }
   ],
   "source": [
    "# random.rand(x) will return an ndarray with x number of items that are \n",
    "# randomly selected between 0 and 1\n",
    "a = np.random.rand(3)\n",
    "print(a)"
   ]
  },
  {
   "cell_type": "code",
   "execution_count": 11,
   "metadata": {},
   "outputs": [
    {
     "name": "stdout",
     "output_type": "stream",
     "text": [
      "[0.19492683 0.24226393 0.50179725]\n"
     ]
    }
   ],
   "source": [
    "\"\"\"\n",
    "using sort() to sort the elements in an ndarrray\n",
    "sort(axis, kind)\n",
    "all arguments are optional\n",
    "axis can be specified, default -1 means sort along the last axis\n",
    "\n",
    "kind can be quicksort, mergesort or heapsort. Default is quicksort\n",
    "\"\"\"\n",
    "\n",
    "a.sort() \n",
    "print(a)"
   ]
  },
  {
   "cell_type": "code",
   "execution_count": 4,
   "metadata": {},
   "outputs": [
    {
     "name": "stdout",
     "output_type": "stream",
     "text": [
      "0.9522362005504987\n"
     ]
    }
   ],
   "source": [
    "# random.sample will return a random number from a uniform distribution from [0.0, 1.0) #evey point has equal chance of being selected - that is what uniform distribution means\n",
    "# 1.0 is not included\n",
    "c = np.random.sample()\n",
    "print(c)"
   ]
  },
  {
   "cell_type": "code",
   "execution_count": 5,
   "metadata": {},
   "outputs": [
    {
     "name": "stdout",
     "output_type": "stream",
     "text": [
      "2\n"
     ]
    }
   ],
   "source": [
    "# random.choice(n) will return a number from an ndarray n\n",
    "a = np.array([2, 6, 12, 18])\n",
    "print(np.random.choice(a)) #picks from the specified array"
   ]
  },
  {
   "cell_type": "code",
   "execution_count": 6,
   "metadata": {},
   "outputs": [
    {
     "name": "stdout",
     "output_type": "stream",
     "text": [
      "3\n",
      "13\n",
      "[-8 -9]\n"
     ]
    }
   ],
   "source": [
    "\"\"\"\n",
    "random.randint(x) will return an integer from the interval  [0, x], both are included\n",
    "random.randint(x, y) will return an integer from [x, y]\n",
    "random.randint(x, y, n) will return n integers between x and y\n",
    "\"\"\"\n",
    "\n",
    "print(np.random.randint(5))\n",
    "print(np.random.randint(11, 15))\n",
    "print(np.random.randint(-10, -5, 2))"
   ]
  },
  {
   "cell_type": "code",
   "execution_count": 22,
   "metadata": {},
   "outputs": [
    {
     "name": "stdout",
     "output_type": "stream",
     "text": [
      "Mike\n"
     ]
    }
   ],
   "source": [
    "\"\"\"\n",
    "In-class activity: \n",
    "From the list [\"Elizabeth\", \"Lisa\", \"Asha\", \"Mike\", \"Amit\"] choose a name\n",
    "\"\"\"\n",
    "a= [\"Elizabeth\", \"Lisa\", \"Asha\", \"Mike\", \"Amit\"]\n",
    "print(np.random.choice(a))"
   ]
  },
  {
   "cell_type": "code",
   "execution_count": 28,
   "metadata": {},
   "outputs": [
    {
     "name": "stdout",
     "output_type": "stream",
     "text": [
      "[1.63931165 2.50665158 3.51734505 2.92125462 2.98353693 4.83512075\n",
      " 0.26187385 1.19742744 0.7646806  0.05983549 2.98147192 0.98747539\n",
      " 2.32032816 2.25190053 3.14041708 3.57252626 2.5342876  3.5948197\n",
      " 4.6634378  1.1814695  2.79623767 0.95003121 1.85208321 2.2526705 ]\n",
      "[1 2 3 2 2 4 0 1 0 0 2 0 2 2 3 3 2 3 4 1 2 0 1 2]\n",
      "0\n"
     ]
    }
   ],
   "source": [
    "\"\"\"\n",
    "In-class activity:\n",
    "Using random.rand create a 1D ndarray, then convert the values in the ndarray to integer \n",
    "and then choose a value from the new int adarray. At every step print the output. \n",
    "\n",
    "a = np.array([2.0,3,4])\n",
    "\n",
    "\"\"\"\n",
    "b = np.random.rand(24)*5 # do this to get the value past the 1 mark.  Called \"broadcasting\"\n",
    "print (b)\n",
    "c = b.astype(\"int\")\n",
    "print (c)\n",
    "print (np.random.choice(c))\n",
    "\n",
    "\n"
   ]
  },
  {
   "cell_type": "markdown",
   "metadata": {},
   "source": [
    "#### Now we will look at the array manipulation"
   ]
  },
  {
   "cell_type": "code",
   "execution_count": 9,
   "metadata": {},
   "outputs": [],
   "source": [
    "a = np.array([[2, 4], [7, 9]])\n",
    "b = np.array([[1, 3], [6, 5]])\n",
    "\n",
    "#  + * - / are element by element perations  1 to 1, the matrixes need to be the same  if not, they will be broadcasted"
   ]
  },
  {
   "cell_type": "code",
   "execution_count": 10,
   "metadata": {},
   "outputs": [
    {
     "name": "stdout",
     "output_type": "stream",
     "text": [
      "[[ 3  7]\n",
      " [13 14]]\n"
     ]
    }
   ],
   "source": [
    "# using + operator we can compute element by element sum of two arrays\n",
    "print(a + b)"
   ]
  },
  {
   "cell_type": "code",
   "execution_count": 11,
   "metadata": {},
   "outputs": [
    {
     "name": "stdout",
     "output_type": "stream",
     "text": [
      "[[ 2 12]\n",
      " [42 45]]\n"
     ]
    }
   ],
   "source": [
    "# using * operator we can compute element by element multiplication of two arrays\n",
    "\n",
    "print(a * b) # element by element multiplication "
   ]
  },
  {
   "cell_type": "code",
   "execution_count": 12,
   "metadata": {},
   "outputs": [
    {
     "name": "stdout",
     "output_type": "stream",
     "text": [
      "[[1 1]\n",
      " [1 4]]\n"
     ]
    }
   ],
   "source": [
    "# using - operator we can compute element by element subtraction of two arrays\n",
    "\n",
    "print(a - b)"
   ]
  },
  {
   "cell_type": "code",
   "execution_count": 13,
   "metadata": {},
   "outputs": [
    {
     "name": "stdout",
     "output_type": "stream",
     "text": [
      "[[26 26]\n",
      " [61 66]]\n"
     ]
    }
   ],
   "source": [
    "# dot(a1, a2) will compute matrix multiplication\n",
    "\n",
    "print(np.dot(a, b)) # matrix multiplication When dot is used.  What is matrix multiplication?  need to look this up.  there is a formula"
   ]
  },
  {
   "cell_type": "code",
   "execution_count": 14,
   "metadata": {},
   "outputs": [
    {
     "name": "stdout",
     "output_type": "stream",
     "text": [
      "[[26 26]\n",
      " [61 66]]\n"
     ]
    }
   ],
   "source": [
    "# @ can be used to perform matrix multiplication \n",
    "# @  is called the 'infix' operator and is only available in Python 3.5+ (PEP 465)\n",
    "\n",
    "print(a @ b) "
   ]
  },
  {
   "cell_type": "code",
   "execution_count": 15,
   "metadata": {},
   "outputs": [
    {
     "name": "stdout",
     "output_type": "stream",
     "text": [
      "[[26 26]\n",
      " [61 66]]\n"
     ]
    }
   ],
   "source": [
    "# if we have matrices then we can perfrom matrix multiplication using matmul(a1, a2)\n",
    "\n",
    "print(np.matmul(a, b)) # matrix multiplication"
   ]
  },
  {
   "cell_type": "code",
   "execution_count": 16,
   "metadata": {},
   "outputs": [
    {
     "name": "stdout",
     "output_type": "stream",
     "text": [
      "[[ 4  5]\n",
      " [ 7  7]\n",
      " [ 9 10]]\n"
     ]
    }
   ],
   "source": [
    "# in an array transpose() will interchange the rows to columns   ******* very important!! *********\n",
    "# and vice-versa used to matrix multiply matrices taht could not nomrally be multiplied  doesn't matter what you transpose, get the same value\n",
    "\n",
    "print(np.transpose([[4, 7, 9], [5, 7, 10]]))"
   ]
  },
  {
   "cell_type": "code",
   "execution_count": 17,
   "metadata": {},
   "outputs": [
    {
     "name": "stdout",
     "output_type": "stream",
     "text": [
      "[[ 3  5]\n",
      " [ 8 11]]\n",
      "[[ 3  8]\n",
      " [ 5 11]]\n"
     ]
    }
   ],
   "source": [
    "# T can also be used to transpose a matrix\n",
    "\n",
    "y = np.array([[3, 5], [8, 11]])\n",
    "print(y)\n",
    "print(y.T)"
   ]
  },
  {
   "cell_type": "code",
   "execution_count": 18,
   "metadata": {},
   "outputs": [
    {
     "data": {
      "text/plain": [
       "'\\nIn-class activity:\\nCreate two 2-by-2 ndarrays. Compute the following:\\n\\n1) Element by element multiplication\\n\\n2) Array multiplication using two different methods\\n'"
      ]
     },
     "execution_count": 18,
     "metadata": {},
     "output_type": "execute_result"
    }
   ],
   "source": [
    "\"\"\"\n",
    "\n",
    "home work\n",
    "In-class activity:\n",
    "Create two 2-by-2 ndarrays. Compute the following:\n",
    "\n",
    "1) Element by element multiplication\n",
    "\n",
    "2) Array multiplication using two different methods\n",
    "\"\"\""
   ]
  },
  {
   "cell_type": "code",
   "execution_count": 19,
   "metadata": {},
   "outputs": [
    {
     "data": {
      "text/plain": [
       "'\\nIn-class activity:\\nCreate an 2-by-2 ndarray. Compute the following:\\n\\n1) Transpose of the ndarray\\n\\n2) array multiplication of the old array and the transposed array\\n'"
      ]
     },
     "execution_count": 19,
     "metadata": {},
     "output_type": "execute_result"
    }
   ],
   "source": [
    "\"\"\"\n",
    "homework will be on quiz\n",
    "n-class activity:\n",
    "Create an 2-by-2 ndarray. Compute the following:\n",
    "\n",
    "1) Transpose of the ndarray\n",
    "\n",
    "2) array multiplication of the old array and the transposed array\n",
    "\"\"\""
   ]
  },
  {
   "cell_type": "code",
   "execution_count": null,
   "metadata": {},
   "outputs": [],
   "source": []
  },
  {
   "cell_type": "code",
   "execution_count": null,
   "metadata": {},
   "outputs": [],
   "source": []
  }
 ],
 "metadata": {
  "kernelspec": {
   "display_name": "Python 3",
   "language": "python",
   "name": "python3"
  },
  "language_info": {
   "codemirror_mode": {
    "name": "ipython",
    "version": 3
   },
   "file_extension": ".py",
   "mimetype": "text/x-python",
   "name": "python",
   "nbconvert_exporter": "python",
   "pygments_lexer": "ipython3",
   "version": "3.6.8"
  },
  "widgets": {
   "state": {},
   "version": "1.1.2"
  }
 },
 "nbformat": 4,
 "nbformat_minor": 2
}
