{
 "cells": [
  {
   "cell_type": "markdown",
   "metadata": {},
   "source": [
    "In this notebook we will discuss the following:\n",
    "    \n",
    "Reshape\n",
    "\n",
    "Resize\n",
    "\n",
    "ravel\n",
    "\n",
    "flatten\n",
    "\n",
    "ufunc\n",
    "\n",
    "broadcast\n",
    "\n",
    "indexing"
   ]
  },
  {
   "cell_type": "code",
   "execution_count": 1,
   "metadata": {},
   "outputs": [],
   "source": [
    "import numpy as np"
   ]
  },
  {
   "cell_type": "code",
   "execution_count": 2,
   "metadata": {},
   "outputs": [
    {
     "name": "stdout",
     "output_type": "stream",
     "text": [
      "[ 0  1  2  3  4  5  6  7  8  9 10 11]\n",
      "1\n"
     ]
    }
   ],
   "source": [
    "# ndim will return number of ndarray dimensions\n",
    "a = np.arange(12)\n",
    "print(a) \n",
    "print(a.ndim) #dimensions of the series, well dataframe"
   ]
  },
  {
   "cell_type": "code",
   "execution_count": 3,
   "metadata": {},
   "outputs": [
    {
     "name": "stdout",
     "output_type": "stream",
     "text": [
      "[[ 2  5]\n",
      " [ 8 11]\n",
      " [ 4 17]]\n",
      "2\n"
     ]
    }
   ],
   "source": [
    "b = np.array([[2, 5], [8, 11], [4, 17]])\n",
    "print(b)\n",
    "print(b.ndim)"
   ]
  },
  {
   "cell_type": "code",
   "execution_count": 4,
   "metadata": {},
   "outputs": [
    {
     "name": "stdout",
     "output_type": "stream",
     "text": [
      "[0 1 2 3 4 5 6 7]\n",
      "[[0 1 2 3]\n",
      " [4 5 6 7]]\n"
     ]
    }
   ],
   "source": [
    "# reshape() will reshape the array into the specified shape\n",
    "a = np.arange(8)\n",
    "b = a.reshape((2, 4)) # Change the array to size 2x4 #important concept\n",
    "print(a)\n",
    "print(b) "
   ]
  },
  {
   "cell_type": "code",
   "execution_count": 5,
   "metadata": {},
   "outputs": [
    {
     "name": "stdout",
     "output_type": "stream",
     "text": [
      "None\n",
      "[[0 1]\n",
      " [2 3]\n",
      " [4 5]\n",
      " [6 7]]\n"
     ]
    }
   ],
   "source": [
    "c = a.resize((4,2))\n",
    "print(c) \n",
    "# the above line will return None as resize modifies inplace Look this up, i have no clue what she is talking about\n",
    "# while reshape creates a new array \n",
    "print(a)"
   ]
  },
  {
   "cell_type": "code",
   "execution_count": 6,
   "metadata": {},
   "outputs": [
    {
     "name": "stdout",
     "output_type": "stream",
     "text": [
      "[0 1 2 3 4 5 6 7]\n"
     ]
    }
   ],
   "source": [
    "flat_a = a.flatten()\n",
    "print(flat_a)\n",
    "# since flat_a is a new copy, any change to flat_a does not affect a"
   ]
  },
  {
   "cell_type": "code",
   "execution_count": 7,
   "metadata": {},
   "outputs": [
    {
     "name": "stdout",
     "output_type": "stream",
     "text": [
      "[0 1 2 3 4 5 6 7]\n"
     ]
    }
   ],
   "source": [
    "ravel_a = a.ravel() #shallow copy\n",
    "print(ravel_a)\n",
    "# ravel_a is not a copy, any change to ravel_a affects a "
   ]
  },
  {
   "cell_type": "code",
   "execution_count": 8,
   "metadata": {},
   "outputs": [
    {
     "name": "stdout",
     "output_type": "stream",
     "text": [
      "[10  1  2  3  4  5  6  7]\n",
      "[[10  1]\n",
      " [ 2  3]\n",
      " [ 4  5]\n",
      " [ 6  7]]\n"
     ]
    }
   ],
   "source": [
    "ravel_a[0] = 10\n",
    "print(ravel_a)\n",
    "print(a)\n",
    "# ravel_a is not a copy, any change to ravel_a affects a "
   ]
  },
  {
   "cell_type": "code",
   "execution_count": 9,
   "metadata": {},
   "outputs": [
    {
     "name": "stdout",
     "output_type": "stream",
     "text": [
      "[[-4  1]\n",
      " [ 2  3]\n",
      " [ 4  5]\n",
      " [ 6  7]]\n",
      "[[-4  1]\n",
      " [ 2  3]\n",
      " [ 4  5]\n",
      " [ 6  7]]\n"
     ]
    }
   ],
   "source": [
    "# good time to talk about shallow copy vs deep copy\n",
    "\n",
    "# shallow copy - points to the same location,\n",
    "# Deep copy - creates new values in memory \n",
    "d = a\n",
    "a[0][0] = -4\n",
    "print(a)\n",
    "print(d)\n",
    "# note that d and a will have same values even though we modified only a"
   ]
  },
  {
   "cell_type": "code",
   "execution_count": 10,
   "metadata": {},
   "outputs": [
    {
     "name": "stdout",
     "output_type": "stream",
     "text": [
      "[[3 1]\n",
      " [2 3]\n",
      " [4 5]\n",
      " [6 7]]\n",
      "[[-4  1]\n",
      " [ 2  3]\n",
      " [ 4  5]\n",
      " [ 6  7]]\n"
     ]
    }
   ],
   "source": [
    "# Deep copy\n",
    "e = a.copy() # e & a are different objects\n",
    "a[0][0] = 3\n",
    "print(a)\n",
    "print(e)\n",
    "# note that e and a will have different values"
   ]
  },
  {
   "cell_type": "code",
   "execution_count": 11,
   "metadata": {},
   "outputs": [
    {
     "name": "stdout",
     "output_type": "stream",
     "text": [
      "[0 3 6 9]\n",
      "[[0 3]\n",
      " [6 9]]\n",
      "[0 3 6 9]\n"
     ]
    }
   ],
   "source": [
    "\"\"\"\n",
    "In-class activity - create an ndarray using arange that starts at 0 and stops \n",
    "at 12 in increments of 3. Then convert reshape the array to 2,2 then ravel the array. \n",
    "At each step, print the output.\n",
    "\"\"\"\n",
    "import numpy as np\n",
    "# teacher: np.arrange(0, 12, step=3)\n",
    "\n",
    "# p = np.linspace(start = 0, stop = 12, num = 4)\n",
    "p = np.arange(0, 12, step=3)\n",
    "print (p)\n",
    "b = p.reshape(2,2)\n",
    "print (b)\n",
    "ravel_b = b.ravel()\n",
    "p = np.linspace(start = -5, stop = 5, num = 10)\n",
    "print (ravel_b)\n"
   ]
  },
  {
   "cell_type": "markdown",
   "metadata": {},
   "source": [
    "## List of ufuncs short for universal functions in numpy\n",
    "\n",
    "https://docs.scipy.org/doc/numpy/reference/ufuncs.html"
   ]
  },
  {
   "cell_type": "code",
   "execution_count": 12,
   "metadata": {},
   "outputs": [
    {
     "name": "stdout",
     "output_type": "stream",
     "text": [
      "[2 3 4 5]\n",
      "[ 0.90929743  0.14112001 -0.7568025  -0.95892427]\n",
      "[-0.41614684 -0.9899925  -0.65364362  0.28366219]\n"
     ]
    }
   ],
   "source": [
    "# Universal functions are called ufunc \n",
    "\n",
    "a = np.arange(2, 6)\n",
    "s = np.sin(a)\n",
    "c = np.cos(a)\n",
    "print(a)\n",
    "print(s)\n",
    "print(c)"
   ]
  },
  {
   "cell_type": "code",
   "execution_count": 15,
   "metadata": {},
   "outputs": [
    {
     "ename": "SyntaxError",
     "evalue": "invalid syntax (<ipython-input-15-da47cecdd645>, line 5)",
     "output_type": "error",
     "traceback": [
      "\u001b[0;36m  File \u001b[0;32m\"<ipython-input-15-da47cecdd645>\"\u001b[0;36m, line \u001b[0;32m5\u001b[0m\n\u001b[0;31m    new = [ 0.90929743  0.14112001 -0.7568025  -0.95892427]\u001b[0m\n\u001b[0m                                 ^\u001b[0m\n\u001b[0;31mSyntaxError\u001b[0m\u001b[0;31m:\u001b[0m invalid syntax\n"
     ]
    }
   ],
   "source": [
    "\"\"\"\n",
    "In-class activity - for the above array \"a\" compute the inverse sine and cosine \n",
    "using arcsin and arccos.\n",
    "\"\"\"\n",
    "\n",
    "#she didn't test this, the problem is the numbers\n",
    "new = [ 0.90929743  0.14112001 -0.7568025  -0.95892427]\n",
    "# a = np.arange(, 6)\n",
    "s = np.arcsin(new)\n",
    "c = np.arccos(new)\n"
   ]
  },
  {
   "cell_type": "markdown",
   "metadata": {},
   "source": [
    "## Array Indexing"
   ]
  },
  {
   "cell_type": "code",
   "execution_count": 14,
   "metadata": {},
   "outputs": [
    {
     "name": "stdout",
     "output_type": "stream",
     "text": [
      "[[3 1 2 2 3]\n",
      " [0 4 0 0 2]\n",
      " [4 4 0 1 2]\n",
      " [0 2 3 0 0]\n",
      " [2 1 3 3 3]]\n",
      "The rows=1 and cols=2 element is 0\n",
      "The first col is [3 0 4 0 2]\n",
      "The third row is [4 4 0 1 2]\n"
     ]
    }
   ],
   "source": [
    "# Basic slicing\n",
    "import numpy as np\n",
    "a = np.random.rand(5, 5)*5\n",
    "b = a.astype(np.int)\n",
    "print(b)\n",
    "print('The rows=1 and cols=2 element is {0}'.format(b[1,2])) \n",
    "print('The first col is {0}'.format(b[:,0])) # print all rows for cols=0 (column 0)  : means everything\n",
    "print('The third row is {0}'.format(b[2, :])) # all cols for rows = 2"
   ]
  },
  {
   "cell_type": "code",
   "execution_count": 15,
   "metadata": {},
   "outputs": [
    {
     "name": "stdout",
     "output_type": "stream",
     "text": [
      "[[1 3 7]\n",
      " [2 4 6]\n",
      " [3 5 9]]\n"
     ]
    }
   ],
   "source": [
    "# broadcasting - the process of supplying a value to \n",
    "# every element in an array\n",
    "\n",
    "a = np.array([[2, 4, 8], [3, 5, 7], [4, 6, 10]])\n",
    "b = np.array(-1)  #adds -1 to each value.  should use array as a priciple.  just a number will work but might jack up later\n",
    "c = a + b\n",
    "print(c)[ 0.90929743  0.14112001 -0.7568025  -0.95892427][ 0.90929743  0.14112001 -0.7568025  -0.95892427]"
   ]
  },
  {
   "cell_type": "code",
   "execution_count": 16,
   "metadata": {},
   "outputs": [
    {
     "name": "stdout",
     "output_type": "stream",
     "text": [
      "[[ 3  5  9]\n",
      " [ 4  6  8]\n",
      " [ 5  7 11]]\n"
     ]
    }
   ],
   "source": [
    "# Another example of broadcasting  \n",
    "# used for imagery, example brightening an image, adding 30 to each cell\n",
    "\n",
    "\n",
    "a = np.array([[2, 4, 8], [3, 5, 7], [4, 6, 10]])\n",
    "b = np.array([1, 1, 1])\n",
    "c = a + b\n",
    "print(c)"
   ]
  },
  {
   "cell_type": "code",
   "execution_count": 17,
   "metadata": {},
   "outputs": [
    {
     "name": "stdout",
     "output_type": "stream",
     "text": [
      "[[2 5]\n",
      " [4 6]]\n",
      "+++++++\n",
      "[[2 5]\n",
      " [4 6]]\n",
      "+++++++\n",
      "[[2 4]\n",
      " [6 5]]\n",
      "+++++++\n",
      "[[2 5]\n",
      " [4 6]]\n"
     ]
    }
   ],
   "source": [
    "# An example of sorting\n",
    "\n",
    "a = np.array([[2, 5], [6, 4]])\n",
    "\n",
    "print(np.sort(a)) # sort(a, axis, kind, order)\n",
    "print(\"+++++++\")\n",
    "print(np.sort(a, order = None))\n",
    "print(\"+++++++\")\n",
    "print(np.sort(a, axis = 0)) # along the column\n",
    "print(\"+++++++\")\n",
    "print(np.sort(a, axis = 1)) # along the row"
   ]
  },
  {
   "cell_type": "code",
   "execution_count": 18,
   "metadata": {},
   "outputs": [
    {
     "name": "stdout",
     "output_type": "stream",
     "text": [
      "[[2 5]\n",
      " [4 6]]\n"
     ]
    }
   ],
   "source": [
    " # we can also use sort() method to sort \n",
    "    \n",
    "a.sort()\n",
    "print(a) "
   ]
  },
  {
   "cell_type": "code",
   "execution_count": 24,
   "metadata": {},
   "outputs": [
    {
     "name": "stdout",
     "output_type": "stream",
     "text": [
      "[[ 8.09955529 18.71935163  6.58774508]\n",
      " [19.81497339  0.73816802  5.17863914]]\n",
      "[[ 8 18  6]\n",
      " [19  0  5]]\n",
      "-5\n",
      "[[ 3 13  1]\n",
      " [14 -5  0]]\n",
      "+++++++\n",
      "[[ 3 -5  0]\n",
      " [14 13  1]]\n",
      "+++++++\n",
      "[[ 1  3 13]\n",
      " [-5  0 14]]\n"
     ]
    }
   ],
   "source": [
    "\"\"\"\n",
    "In-class activity - create an ndarray that is 2 by 3. Then broadcast value -5 to each element. \n",
    "Then sort the array first along the columns and then along the rows.\n",
    "\"\"\" \n",
    "\n",
    "y = np.random.rand(2,3) * 20\n",
    "bb = y.astype(\"int\")\n",
    "r = np.array(-5)\n",
    "t = bb + r\n",
    "print (y)\n",
    "print (bb)\n",
    "print (r)\n",
    "print (t)\n",
    "print(\"+++++++\")\n",
    "print(np.sort(t, axis = 0)) # along the column\n",
    "print(\"+++++++\")\n",
    "print(np.sort(t, axis = 1)) # along the row"
   ]
  }
 ],
 "metadata": {
  "kernelspec": {
   "display_name": "Python 3",
   "language": "python",
   "name": "python3"
  },
  "language_info": {
   "codemirror_mode": {
    "name": "ipython",
    "version": 3
   },
   "file_extension": ".py",
   "mimetype": "text/x-python",
   "name": "python",
   "nbconvert_exporter": "python",
   "pygments_lexer": "ipython3",
   "version": "3.6.8"
  },
  "widgets": {
   "state": {},
   "version": "1.1.2"
  }
 },
 "nbformat": 4,
 "nbformat_minor": 2
}
